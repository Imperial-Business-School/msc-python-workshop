{
 "cells": [
  {
   "cell_type": "markdown",
   "metadata": {},
   "source": [
    "# Machine Learning with the Diamonds Dataset\n",
    "\n",
    "This notebook explores the **diamonds dataset** using `pandas` and `seaborn`. \n",
    "We will conduct **exploratory data analysis (EDA)**, select relevant features, and build a regression model to predict diamond prices."
   ]
  },
  {
   "cell_type": "markdown",
   "metadata": {},
   "source": [
    "## Importing Required Libraries\n",
    "\n",
    "We import the necessary libraries:\n",
    "- `pandas` for handling structured data.\n",
    "- `seaborn` for visualisation.\n",
    "- `matplotlib.pyplot` for plotting.\n",
    "- `sklearn.model_selection` for splitting the data.\n",
    "- `sklearn.linear_model` for linear regression."
   ]
  },
  {
   "cell_type": "code",
   "execution_count": 1,
   "metadata": {},
   "outputs": [],
   "source": [
    "import pandas as pd\n",
    "import seaborn as sns\n",
    "import matplotlib.pyplot as plt\n",
    "from sklearn.model_selection import train_test_split\n",
    "from sklearn.linear_model import LinearRegression"
   ]
  },
  {
   "cell_type": "markdown",
   "metadata": {},
   "source": [
    "## Loading and Exploring the Data\n",
    "\n",
    "We load the diamonds dataset from `seaborn`, which contains information about diamonds, including:\n",
    "- **Carat**: Weight of the diamond.\n",
    "- **Cut**: Quality of the cut.\n",
    "- **Colour**: Diamond colour, from J (worst) to D (best).\n",
    "- **Clarity**: Measurement of how clear the diamond is.\n",
    "- **Depth & Table**: Proportions of the diamond.\n",
    "- **Price**: Price of the diamond in US dollars."
   ]
  },
  {
   "cell_type": "code",
   "execution_count": 2,
   "metadata": {},
   "outputs": [],
   "source": [
    "df = sns.load_dataset('diamonds')\n",
    "print(df.info())\n",
    "df.head()"
   ]
  },
  {
   "cell_type": "markdown",
   "metadata": {},
   "source": [
    "## Data Cleaning and Visualisation\n",
    "\n",
    "Before we build a model, we check for missing values and visualise the relationships between key variables."
   ]
  },
  {
   "cell_type": "code",
   "execution_count": 3,
   "metadata": {},
   "outputs": [],
   "source": [
    "# Drop any missing values (if any)\n",
    "df = df.dropna()\n",
    "\n",
    "# Pairplot to check relationships between variables\n",
    "sns.pairplot(df[['price', 'carat', 'depth', 'table']])\n",
    "plt.show()"
   ]
  },
  {
   "cell_type": "markdown",
   "metadata": {},
   "source": [
    "## Feature Selection\n",
    "\n",
    "We check correlations to determine which numerical features are useful for predicting price."
   ]
  },
  {
   "cell_type": "code",
   "execution_count": 4,
   "metadata": {},
   "outputs": [],
   "source": [
    "# Compute correlation matrix\n",
    "correlation_matrix = df.corr()\n",
    "print(correlation_matrix['price'].sort_values(ascending=False))"
   ]
  },
  {
   "cell_type": "markdown",
   "metadata": {},
   "source": [
    "## Building a Regression Model\n",
    "\n",
    "Based on our correlation analysis, we select **carat, depth, and table** as predictors for price."
   ]
  },
  {
   "cell_type": "code",
   "execution_count": 5,
   "metadata": {},
   "outputs": [],
   "source": [
    "X = df[['carat', 'depth', 'table']]\n",
    "y = df['price']\n",
    "X_train, X_test, y_train, y_test = train_test_split(X, y, test_size=0.2, random_state=42)\n",
    "model = LinearRegression()\n",
    "model.fit(X_train, y_train)\n",
    "\n",
    "# Display model coefficients\n",
    "print(f'Coefficients: {model.coef_}')\n",
    "print(f'Intercept: {model.intercept_}')"
   ]
  },
  {
   "cell_type": "markdown",
   "metadata": {},
   "source": [
    "## Visualising Model Predictions\n",
    "\n",
    "We compare predicted and actual prices to assess model performance."
   ]
  },
  {
   "cell_type": "code",
   "execution_count": 6,
   "metadata": {},
   "outputs": [],
   "source": [
    "y_pred = model.predict(X_test)\n",
    "\n",
    "plt.scatter(y_test, y_pred, alpha=0.5)\n",
    "plt.xlabel('Actual Prices')\n",
    "plt.ylabel('Predicted Prices')\n",
    "plt.title('Actual vs Predicted Prices')\n",
    "plt.show()"
   ]
  },
  {
   "cell_type": "markdown",
   "metadata": {},
   "source": [
    "## Conclusion\n",
    "\n",
    "We used EDA to select relevant features and built a regression model to predict diamond prices. The scatter plot above shows how well our model performs."
   ]
  }
 ],
 "metadata": {
  "kernelspec": {
   "display_name": "Python 3",
   "language": "python",
   "name": "python3"
  },
  "language_info": {
   "name": "python",
   "version": "3.8"
  }
 },
 "nbformat": 4,
 "nbformat_minor": 2
}
