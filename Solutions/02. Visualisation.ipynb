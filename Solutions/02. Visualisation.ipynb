{
  "cells": [
    {
      "cell_type": "markdown",
      "metadata": {
        "id": "BwoZAnXIClK7"
      },
      "source": [
        "# Basic Data Visualisation with Python\n",
        "\n",
        "Following our introduction to data manipulation, this notebook will show you how to create simple but effective visualisations of the restaurant data. We'll focus on practical plots that help us understand our customers and sales."
      ]
    },
    {
      "cell_type": "markdown",
      "metadata": {
        "id": "_87Rw3WIClK7"
      },
      "source": [
        "## Setting up the Environment\n",
        "\n",
        "Let's import our libraries and load the data. We'll need pandas to handle the tabular data and seaborn for the data itself. We'll introduce matplotlib - a classic choice for visualisations in Python.\n",
        "\n",
        "We can change the style of our visualisations using `plt.style.use()`. The supported styles can be found [at this link](https://matplotlib.org/stable/gallery/style_sheets/style_sheets_reference.html#sphx-glr-gallery-style-sheets-style-sheets-reference-py). We'll use the style based on the well-known data science [website](https://projects.fivethirtyeight.com/)."
      ]
    },
    {
      "cell_type": "code",
      "execution_count": null,
      "metadata": {
        "id": "BF1nxuWyClK7"
      },
      "outputs": [],
      "source": [
        "import pandas as pd\n",
        "import seaborn as sns\n",
        "import matplotlib.pyplot as plt\n",
        "\n",
        "plt.style.use('fivethirtyeight')\n",
        "\n",
        "# Load our dataset\n",
        "df = sns.load_dataset('tips')"
      ]
    },
    {
      "cell_type": "markdown",
      "metadata": {
        "id": "3w51gfe0ClK8"
      },
      "source": [
        "## 1. Pie Chart: Time Split\n",
        "\n",
        "Pie charts are useful for showing proportions. Let's see how our dataset are split between lunch and dinner.\n",
        "\n",
        "Some visualisations will need us to do some aggregation or analysis first. For this task, we need to know how many rows are **lunch** and how many rows are **dinner**. The `value_counts()` method will do this for us, giving us a table where the row indices are the time, and the values are the count."
      ]
    },
    {
      "cell_type": "code",
      "execution_count": null,
      "metadata": {
        "colab": {
          "base_uri": "https://localhost:8080/",
          "height": 178
        },
        "id": "vRPDqEoLEQ6T",
        "outputId": "175bfe28-e626-4953-e423-1ea14006332e"
      },
      "outputs": [],
      "source": [
        "# Calculate the count of meals by time\n",
        "time_counts = df['time'].value_counts()\n",
        "time_counts"
      ]
    },
    {
      "cell_type": "code",
      "execution_count": null,
      "metadata": {
        "colab": {
          "base_uri": "https://localhost:8080/",
          "height": 456
        },
        "id": "lkXwoUV_ClK8",
        "outputId": "ab4b73a9-7fb6-4178-a1df-9eac639cacf0"
      },
      "outputs": [],
      "source": [
        "# Create a pie chart\n",
        "plt.pie(time_counts.values, labels=time_counts.index)\n",
        "plt.title('Distribution of Lunch vs Dinner Visits')\n",
        "plt.show()"
      ]
    },
    {
      "cell_type": "markdown",
      "metadata": {
        "id": "5Kn5Bz-WClK9"
      },
      "source": [
        "## 2. Scatter Plot: Bills vs Tips\n",
        "\n",
        "A scatter plot can help us understand the relationship between variables - for example, bills and tips."
      ]
    },
    {
      "cell_type": "code",
      "execution_count": null,
      "metadata": {
        "colab": {
          "base_uri": "https://localhost:8080/",
          "height": 508
        },
        "id": "myvFcHs7ClK9",
        "outputId": "b47f6aa0-b434-4c51-f5d5-c68dceafc781"
      },
      "outputs": [],
      "source": [
        "# Create a simple scatter plot\n",
        "plt.scatter(df['total_bill'], df['tip'])\n",
        "plt.title('Tips vs Total Bill')\n",
        "plt.xlabel('Total Bill (£)')\n",
        "plt.ylabel('Tip (£)')\n",
        "plt.show()"
      ]
    },
    {
      "cell_type": "markdown",
      "metadata": {
        "id": "iiBeIm7WClK8"
      },
      "source": [
        "## 3. Bar Charts: Understanding Daily Patterns\n",
        "\n",
        "Bar charts are excellent for comparing values across different categories. Let's start by looking at our total daily sales, broken down by day.\n",
        "\n",
        "As with our pie chart example, we need to do a little work first. We need a table where the row indices are the days of the week, and the values for each day is the total sales."
      ]
    },
    {
      "cell_type": "markdown",
      "metadata": {
        "id": "amzhrQDiJUSh"
      },
      "source": [
        "### Exercise 1\n",
        "\n",
        "Determine the total sales per day."
      ]
    },
    {
      "cell_type": "code",
      "execution_count": null,
      "metadata": {
        "colab": {
          "base_uri": "https://localhost:8080/",
          "height": 241
        },
        "id": "8-RTERDiKeIR",
        "outputId": "1eee2e55-003c-44e8-87ea-8ae8083e6092"
      },
      "outputs": [],
      "source": [
        "# Create a simple bar chart of total sales by day\n",
        "daily_totals = df.groupby('day', observed=True)['total_bill'].sum()\n",
        "daily_totals"
      ]
    },
    {
      "cell_type": "markdown",
      "metadata": {
        "id": "Kv_BMX0jKoGu"
      },
      "source": [
        "### Plotting"
      ]
    },
    {
      "cell_type": "code",
      "execution_count": null,
      "metadata": {
        "colab": {
          "base_uri": "https://localhost:8080/",
          "height": 508
        },
        "id": "UmmtB53xClK8",
        "outputId": "3f7cdab3-2cef-461f-b3cc-17a7009fd6e9"
      },
      "outputs": [],
      "source": [
        "# Plot\n",
        "plt.bar(daily_totals.index, daily_totals.values)\n",
        "plt.title('Total Sales by Day')\n",
        "plt.xlabel('Day of the Week')\n",
        "plt.ylabel('Total Sales (£)')\n",
        "plt.show()"
      ]
    },
    {
      "cell_type": "markdown",
      "metadata": {
        "id": "C6l0dDMvClK8"
      },
      "source": [
        "## 4. Line plots\n",
        "\n",
        "### Exercise 2\n",
        "\n",
        "Line plots can help us see trends. Let's look at how tips vary across different days. Creating a line plot uses similar code to the bar plot - just be sure to use `plt.plot()` instead of `plt.bar()`.\n",
        "\n",
        "Create a line plot showing the average tip on each day. Use the cell below to do so."
      ]
    },
    {
      "cell_type": "code",
      "execution_count": null,
      "metadata": {
        "colab": {
          "base_uri": "https://localhost:8080/",
          "height": 508
        },
        "id": "g6y2iq_3ClK8",
        "outputId": "ea6e3a93-f4e9-4bd4-97c0-9d17496f0957"
      },
      "outputs": [],
      "source": [
        "# Calculate average tips by day\n",
        "daily_tips = df.groupby('day', observed=True)['tip'].mean()\n",
        "\n",
        "# Create a line plot\n",
        "plt.plot(daily_tips.index, daily_tips.values)\n",
        "plt.title('Average Tips Throughout the Week')\n",
        "plt.xlabel('Day of the Week')\n",
        "plt.ylabel('Average Tip (£)')\n",
        "plt.show()"
      ]
    },
    {
      "cell_type": "markdown",
      "metadata": {
        "id": "TrkdMU1Qeluq"
      },
      "source": [
        "## 5. Seaborn\n",
        "\n",
        "Up until now we've been using the seaborn library because it provides us with the Tips dataset. However - seaborn is first and foremost a plotting library!\n",
        "\n",
        "Seaborn sits on top of matplotlib to provide more advanced statistical visualisations. For example, we can directly plot average sales by day, without having to groupby and aggregate ourselves."
      ]
    },
    {
      "cell_type": "code",
      "execution_count": null,
      "metadata": {
        "colab": {
          "base_uri": "https://localhost:8080/",
          "height": 508
        },
        "id": "4o9_pm-afCen",
        "outputId": "f1530a32-b1bf-43a7-aee1-82515f976a83"
      },
      "outputs": [],
      "source": [
        "sns.barplot(data=df, x='day', y='total_bill')\n",
        "plt.title('Average Sales by Day')\n",
        "plt.xlabel('Day of the Week')\n",
        "plt.ylabel('Average Sales (£)')\n",
        "plt.show()"
      ]
    },
    {
      "cell_type": "markdown",
      "metadata": {
        "id": "qqvNsLpOf3mV"
      },
      "source": [
        "### Exercise 3\n",
        "\n",
        "Use seaborn to create a `boxplot` showing **tips** on each **day**."
      ]
    },
    {
      "cell_type": "code",
      "execution_count": null,
      "metadata": {
        "colab": {
          "base_uri": "https://localhost:8080/",
          "height": 508
        },
        "id": "poq0A-aFeFak",
        "outputId": "e26acac5-2ab8-4a75-9281-61092924a6b7"
      },
      "outputs": [],
      "source": [
        "sns.boxplot(data=df, x='day', y='tip')\n",
        "plt.title('Distribution of Tips by Day')\n",
        "plt.xlabel('Day of the Week')\n",
        "plt.ylabel('Total Tip (£)')\n",
        "plt.show()"
      ]
    },
    {
      "cell_type": "markdown",
      "metadata": {
        "id": "fogxLAHlClK9"
      },
      "source": [
        "## Conclusion\n",
        "\n",
        "We've learned how to create four essential types of plots with `matplotlib`:\n",
        "- Pie charts for showing proportions\n",
        "- Scatter plots for showing relationships\n",
        "- Bar charts for comparing categories\n",
        "- Line plots for showing trends\n",
        "\n",
        "And took the first steps with more advanced plotting with `seaborn`."
      ]
    }
  ],
  "metadata": {
    "colab": {
      "provenance": []
    },
    "kernelspec": {
      "display_name": ".venv",
      "language": "python",
      "name": "python3"
    },
    "language_info": {
      "codemirror_mode": {
        "name": "ipython",
        "version": 3
      },
      "file_extension": ".py",
      "mimetype": "text/x-python",
      "name": "python",
      "nbconvert_exporter": "python",
      "pygments_lexer": "ipython3",
      "version": "3.12.4"
    }
  },
  "nbformat": 4,
  "nbformat_minor": 0
}
