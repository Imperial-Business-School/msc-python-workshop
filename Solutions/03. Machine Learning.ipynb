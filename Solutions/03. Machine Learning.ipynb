{
  "cells": [
    {
      "cell_type": "markdown",
      "metadata": {
        "id": "cT4WrGjPNk-S"
      },
      "source": [
        "# Machine Learning with the Diamonds Dataset\n",
        "\n",
        "This notebook explores the **diamonds dataset** using `pandas` and `seaborn`.\n",
        "We will conduct **exploratory data analysis (EDA)**, select relevant features, and build a regression model to **predict diamond prices**."
      ]
    },
    {
      "cell_type": "markdown",
      "metadata": {
        "id": "wVWNt_pmNk-T"
      },
      "source": [
        "## Importing Required Libraries\n",
        "\n",
        "We import the necessary libraries:\n",
        "- `pandas` for handling structured data.\n",
        "- `seaborn` for visualisation.\n",
        "- `matplotlib.pyplot` for plotting.\n",
        "- `sklearn.linear_model` for linear regression."
      ]
    },
    {
      "cell_type": "code",
      "execution_count": null,
      "metadata": {
        "id": "XAcK0g7ENk-T"
      },
      "outputs": [],
      "source": [
        "import pandas as pd\n",
        "import seaborn as sns\n",
        "import matplotlib.pyplot as plt\n",
        "from sklearn.linear_model import LinearRegression\n",
        "\n",
        "plt.style.use('fivethirtyeight')"
      ]
    },
    {
      "cell_type": "markdown",
      "metadata": {
        "id": "sFq3-bAJNk-T"
      },
      "source": [
        "## Loading and Exploring the Data\n",
        "\n",
        "We load the diamonds dataset from `seaborn`, which contains information about diamonds, including:\n",
        "- **Carat**: Weight of the diamond.\n",
        "- **Cut**: Quality of the cut.\n",
        "- **Colour**: Diamond colour, from J (worst) to D (best).\n",
        "- **Clarity**: Measurement of how clear the diamond is.\n",
        "- **Depth & Table**: Proportions of the diamond relative to width\n",
        "- **Price**: Price of the diamond in US dollars.\n",
        "- **Dimensions (x, y, z)**: length, width and depth in mm."
      ]
    },
    {
      "cell_type": "code",
      "execution_count": null,
      "metadata": {
        "colab": {
          "base_uri": "https://localhost:8080/",
          "height": 632
        },
        "id": "ygarAnTqNk-U",
        "outputId": "3b7cbc6f-850d-488e-e3b3-ba856a166ec3"
      },
      "outputs": [],
      "source": [
        "df = sns.load_dataset('diamonds')\n",
        "print(df.info())\n",
        "df.head()"
      ]
    },
    {
      "cell_type": "code",
      "execution_count": null,
      "metadata": {
        "id": "n52n7tTeZOLM"
      },
      "outputs": [],
      "source": [
        "# Overview statistics\n",
        "df.describe()"
      ]
    },
    {
      "cell_type": "markdown",
      "metadata": {
        "id": "VdfPChT0Nk-U"
      },
      "source": [
        "## Feature Selection\n",
        "\n",
        "We can check correlations to determine which features (columns) are useful for predicting price.\n",
        "\n",
        "In practice, we would encode our categorical variables to numerics so we can use them in our model, but for today, let's focus on numerical features only.\n",
        "\n",
        "### Exercise 1:\n",
        "\n",
        "Create a subset of the data, considering numerical features only. Store this in a new dataframe and call the `.corr()` method to observe correlations between features."
      ]
    },
    {
      "cell_type": "code",
      "execution_count": null,
      "metadata": {
        "colab": {
          "base_uri": "https://localhost:8080/",
          "height": 269
        },
        "id": "TuHvyfFQNk-U",
        "outputId": "8a61f1f6-d9e3-4799-a2e2-9d046eed6238"
      },
      "outputs": [],
      "source": [
        "# Select numeric columns and create correlation matrix\n",
        "numeric_df = df.select_dtypes(['float64', 'int64'])\n",
        "\n",
        "correlation_matrix = numeric_df.corr()\n",
        "correlation_matrix\n"
      ]
    },
    {
      "cell_type": "markdown",
      "metadata": {
        "id": "pzTXNmsOjjWF"
      },
      "source": [
        "### Visualising Correlation\n",
        "\n",
        "Reading correation coefficients in a table can be difficult. Let's see how we can visualise these!"
      ]
    },
    {
      "cell_type": "code",
      "execution_count": null,
      "metadata": {
        "colab": {
          "base_uri": "https://localhost:8080/",
          "height": 452
        },
        "id": "mfX7HrJHjXkN",
        "outputId": "74467475-2b38-4367-c9fb-b606aaf1e28f"
      },
      "outputs": [],
      "source": [
        "# Create heatmap\n",
        "sns.heatmap(correlation_matrix, annot=True, cmap='coolwarm')\n",
        "plt.title('Correlation Matrix')\n",
        "plt.show()"
      ]
    },
    {
      "cell_type": "markdown",
      "metadata": {
        "id": "FEcl2GoXNk-U"
      },
      "source": [
        "## Building a Regression Model\n",
        "\n",
        "Highly correlated features may be good predictors (e.g. price and carat are highly correlated). If we want to include multiple predictors, we should avoid multicollinearity (e.g. x, y, z are highly correlated with carat, so may not be useful additions to the model).\n",
        "\n",
        "Based on our correlation analysis, we select **carat and depth** as predictors for price. Carat has a high correlation, depth has a weak (negative) correlation, and they are weakly correlated themselves."
      ]
    },
    {
      "cell_type": "code",
      "execution_count": null,
      "metadata": {
        "colab": {
          "base_uri": "https://localhost:8080/"
        },
        "id": "geHy7qUtQ7m1",
        "outputId": "8c2fc370-3d32-4ead-dbb3-416838efa261"
      },
      "outputs": [],
      "source": [
        "# Prepare the data\n",
        "X = df[['carat', 'depth']]  # Predictors\n",
        "y = df['price']             # Target variable\n",
        "\n",
        "# Create and fit the model\n",
        "model = LinearRegression()\n",
        "model.fit(X, y)\n",
        "\n",
        "# Print the results\n",
        "print(\"Regression Coefficients:\")\n",
        "print(f\"Carat: {model.coef_[0]:.4f}\")\n",
        "print(f\"Depth: {model.coef_[1]:.4f}\")\n",
        "print(f\"\\nR-squared: {model.score(X, y):.4f}\")"
      ]
    },
    {
      "cell_type": "markdown",
      "metadata": {
        "id": "Z3MPIBmlVgag"
      },
      "source": [
        "## Evaluating the model\n",
        "- The R-squared value of 0.85 indicates our model explains about 85% of the variance in diamond prices\n",
        "- This suggests a reasonably strong predictive model, though there's still unexplained variation\n",
        "\n",
        "### Understanding the Coefficients\n",
        "1. **Carat** (7765.14):\n",
        "  - Strong positive relationship with price\n",
        "  - For each carat increase, price increases by approximately £7,765\n",
        "  - This aligns with our expectation that higher carat diamonds are more valuable\n",
        "\n",
        "2. **Depth** (-102.17):\n",
        "  - Slight negative relationship with price\n",
        "  - For each mm increase in depth, price decreases by about £102\n",
        "  - Suggests that, holding carat constant, customers slightly prefer less deep diamonds\n",
        "\n",
        "Looking at our coefficients, the scales are very different:\n",
        "\n",
        "- Carat typically ranges from about 0.2 to 5\n",
        "- Depth typically ranges from about 45 to 80\n",
        "\n",
        "**In practice, we would standarise these values, but we are leaving them in their raw form here because it makes explaining them easier.**\n",
        "\n",
        "### Predictions\n",
        "\n",
        "Let's use this model to predict prices for specific diamonds and see how well it performs in practice. The code below initialises a new diamond with a specific carat and depth, and then uses our model to make a price prediction.\n",
        "\n",
        "**In practice, we would have _split_ our original data into a training set (which we would have used in the code above) and a test set (which we could use to verify how well our model predicts on new data).**\n",
        "\n"
      ]
    },
    {
      "cell_type": "code",
      "execution_count": null,
      "metadata": {
        "colab": {
          "base_uri": "https://localhost:8080/"
        },
        "id": "dGhzapXvUtbZ",
        "outputId": "9976de49-0b08-4563-8274-172f4abcd824"
      },
      "outputs": [],
      "source": [
        "# Define new diamond\n",
        "new_diamond = pd.DataFrame({\n",
        "    'carat': [1.5],\n",
        "    'depth': [61.5]\n",
        "})\n",
        "\n",
        "# Make prediction\n",
        "prediction = model.predict(new_diamond)\n",
        "print(f\"Price prediction: £{prediction[0]:.2f}\")"
      ]
    },
    {
      "cell_type": "markdown",
      "metadata": {
        "id": "GB3uRonTNk-U"
      },
      "source": [
        "## Visualising Model Predictions\n",
        "\n",
        "### Exercise 2:\n",
        "\n",
        "Let's compare predicted prices with actual prices to assess model performance. Again, we would typically do this with a test set, but the approach is the same.\n",
        "\n",
        "Use the `.predict()` method to predict prices for all of the original values in our dataset. Then use a scatter plot to compare actual prices with our model's predictions."
      ]
    },
    {
      "cell_type": "code",
      "execution_count": null,
      "metadata": {
        "colab": {
          "base_uri": "https://localhost:8080/",
          "height": 472
        },
        "id": "5Tb5ds03Nk-U",
        "outputId": "210852d9-1203-4542-e0b8-3f43debd6841"
      },
      "outputs": [],
      "source": [
        "y_pred = model.predict(X)\n",
        "\n",
        "plt.scatter(y, y_pred, alpha=0.5)\n",
        "plt.xlabel('Actual Prices')\n",
        "plt.ylabel('Predicted Prices')\n",
        "plt.title('Actual vs Predicted Prices')\n",
        "plt.show()"
      ]
    },
    {
      "cell_type": "markdown",
      "metadata": {
        "id": "3z0F1bLtNk-U"
      },
      "source": [
        "## Conclusion\n",
        "\n",
        "In this notebook, we performed a quick exploration to select relevant features and built a regression model to predict diamond prices."
      ]
    }
  ],
  "metadata": {
    "colab": {
      "provenance": []
    },
    "kernelspec": {
      "display_name": "Python 3",
      "language": "python",
      "name": "python3"
    },
    "language_info": {
      "name": "python",
      "version": "3.8"
    }
  },
  "nbformat": 4,
  "nbformat_minor": 0
}
