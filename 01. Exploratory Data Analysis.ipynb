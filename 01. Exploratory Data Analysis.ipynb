{
  "cells": [
    {
      "cell_type": "markdown",
      "metadata": {
        "id": "ZNpsGeeF72ks"
      },
      "source": [
        "# Introduction to Tabular Data: The Tips Dataset\n",
        "\n",
        "In this notebook, we will explore a sample data set called **Tips** from Seaborn. This data set contains information from a restaurant, including details about bills, tips, and customer data."
      ]
    },
    {
      "cell_type": "markdown",
      "metadata": {
        "id": "qRQLPbh972kt"
      },
      "source": [
        "## About the Libraries: pandas and seaborn\n",
        "\n",
        "In Python, we use libraries to add extra functionality beyond the built‐in features. Two important libraries for data analysis are:\n",
        "\n",
        "- **pandas (imported as `pd`)**: A powerful library for data manipulation and analysis. It provides a DataFrame data structure (similar to a spreadsheet) that makes it easy to work with tabular data.\n",
        "\n",
        "- **seaborn (imported as `sns`)**: A library for creating statistical graphics and visualisations. It also includes built‐in data sets (like the Tips data set) which are ideal for learning and practice.\n",
        "\n",
        "We use the aliases `pd` and `sns` to write code more concisely. For example, instead of writing `pandas.DataFrame()`, we use `pd.DataFrame()`."
      ]
    },
    {
      "cell_type": "markdown",
      "source": [
        "## About the Data: The Tips Dataset\n",
        "The Tips dataset is a sample dataset included with seaborn that contains restaurant dining information, including:\n",
        "\n",
        "- **Total bill**: The cost of the meal, in US dollars\n",
        "- **Tip amount**: How much the customer tipped, in US dollars\n",
        "- **Time**: Whether the meal was for lunch or dinner\n",
        "- **Day**: Which day of the week the meal occurred\n",
        "- **Size**: The number of people in the dining party\n",
        "- **Gender**: The gender of the bill payer\n",
        "- **Smoker**: Whether the party sat in the smoking or non-smoking section\n",
        "\n",
        "This dataset comes pre-loaded with seaborn."
      ],
      "metadata": {
        "id": "Ke8nqyaH9zsE"
      }
    },
    {
      "cell_type": "markdown",
      "metadata": {
        "id": "4ePaOTEW72kt"
      },
      "source": [
        "## Loading Data\n",
        "\n",
        "We will start by importing the necessary libraries and loading the Tips data set."
      ]
    },
    {
      "cell_type": "code",
      "execution_count": 2,
      "metadata": {
        "id": "tBY7kIkK72kt"
      },
      "outputs": [],
      "source": [
        "import pandas as pd\n",
        "import seaborn as sns"
      ]
    },
    {
      "cell_type": "code",
      "execution_count": 3,
      "metadata": {
        "id": "2Z1dSPV-72kt"
      },
      "outputs": [],
      "source": [
        "# Load the Tips data set\n",
        "df = sns.load_dataset('tips')"
      ]
    },
    {
      "cell_type": "markdown",
      "metadata": {
        "id": "7kHgdsiR72kt"
      },
      "source": [
        "## Inspecting the Data\n",
        "\n",
        "Before analysing the data, it is important to inspect it. We can use methods like `head()` and `tail()` to view the first and last few rows, and use attributes like `shape` and `info()` to understand the structure of the DataFrame."
      ]
    },
    {
      "cell_type": "code",
      "execution_count": 4,
      "metadata": {
        "colab": {
          "base_uri": "https://localhost:8080/"
        },
        "id": "PvWQHoCC72kt",
        "outputId": "2bbb06e3-f997-4f89-eb2e-f30d167db9c6"
      },
      "outputs": [
        {
          "output_type": "stream",
          "name": "stdout",
          "text": [
            "   total_bill   tip     sex smoker  day    time  size\n",
            "0       16.99  1.01  Female     No  Sun  Dinner     2\n",
            "1       10.34  1.66    Male     No  Sun  Dinner     3\n",
            "2       21.01  3.50    Male     No  Sun  Dinner     3\n",
            "3       23.68  3.31    Male     No  Sun  Dinner     2\n",
            "4       24.59  3.61  Female     No  Sun  Dinner     4\n",
            "     total_bill   tip     sex smoker   day    time  size\n",
            "239       29.03  5.92    Male     No   Sat  Dinner     3\n",
            "240       27.18  2.00  Female    Yes   Sat  Dinner     2\n",
            "241       22.67  2.00    Male    Yes   Sat  Dinner     2\n",
            "242       17.82  1.75    Male     No   Sat  Dinner     2\n",
            "243       18.78  3.00  Female     No  Thur  Dinner     2\n"
          ]
        }
      ],
      "source": [
        "# Print the first five rows\n",
        "print(df.head())\n",
        "\n",
        "# Print the last five rows\n",
        "print(df.tail())"
      ]
    },
    {
      "cell_type": "code",
      "execution_count": 7,
      "metadata": {
        "colab": {
          "base_uri": "https://localhost:8080/"
        },
        "id": "Fb9k-WoQ72kt",
        "outputId": "34d66d51-dfa7-41da-f0fc-4955c0c05a3a"
      },
      "outputs": [
        {
          "output_type": "stream",
          "name": "stdout",
          "text": [
            "Rows and columns: (244, 7)\n",
            "Info\n",
            "<class 'pandas.core.frame.DataFrame'>\n",
            "RangeIndex: 244 entries, 0 to 243\n",
            "Data columns (total 7 columns):\n",
            " #   Column      Non-Null Count  Dtype   \n",
            "---  ------      --------------  -----   \n",
            " 0   total_bill  244 non-null    float64 \n",
            " 1   tip         244 non-null    float64 \n",
            " 2   sex         244 non-null    category\n",
            " 3   smoker      244 non-null    category\n",
            " 4   day         244 non-null    category\n",
            " 5   time        244 non-null    category\n",
            " 6   size        244 non-null    int64   \n",
            "dtypes: category(4), float64(2), int64(1)\n",
            "memory usage: 7.4 KB\n",
            "None\n",
            "<pandas.core.arrays.categorical.CategoricalAccessor object at 0x79159974c510>\n",
            "Index(['Thur', 'Fri', 'Sat', 'Sun'], dtype='object')\n"
          ]
        }
      ],
      "source": [
        "# Print the shape and summary info of the DataFrame\n",
        "print(\"Rows and columns:\", df.shape)\n",
        "print(\"Info\")\n",
        "print(df.info())"
      ]
    },
    {
      "cell_type": "markdown",
      "source": [
        "## Understanding our data\n",
        "\n",
        "Based on the output of `shape` and `info()`, the Tips dataset contains 244 rows (dining experiences) with 7 columns of different types:\n",
        "\n",
        "**Numerical Columns:**\n",
        "- `total_bill` and `tip` are stored as `float64`, which is appropriate as these monetary values can have decimal places\n",
        "- `size` is stored as `int64`, which makes sense for whole numbers representing the count of diners\n",
        "\n",
        "**Categorical Columns:**\n",
        "- Four columns are stored as `category` type: `sex`, `smoker`, `day`, and `time`\n",
        "- Using the category type is memory-efficient for columns with a limited set of possible values\n",
        "\n",
        "All columns have 244 non-null values, indicating there are no missing values in the dataset, which is helpful for our analysis as we won't need to handle missing data."
      ],
      "metadata": {
        "id": "iA3kpI9T-yg5"
      }
    },
    {
      "cell_type": "markdown",
      "metadata": {
        "id": "3GkoR6EF72kt"
      },
      "source": [
        "## Accessing Data\n",
        "\n",
        "You can access specific parts of the DataFrame using square bracket notation or the `iloc` method. For example:"
      ]
    },
    {
      "cell_type": "code",
      "execution_count": null,
      "metadata": {
        "id": "XwgRydk972kt"
      },
      "outputs": [],
      "source": [
        "# Access a single column (e.g. total_bill)\n",
        "print(df['total_bill'])\n",
        "\n",
        "# Access multiple columns\n",
        "print(df[['total_bill', 'tip']])\n",
        "\n",
        "# Access rows where the day is 'Fri'\n",
        "print(df[df['day'] == 'Fri'])\n",
        "\n",
        "# Access the first row\n",
        "print(df.iloc[0])\n",
        "\n",
        "# Access the fifth row and third column\n",
        "print(df.iloc[4, 2])"
      ]
    },
    {
      "cell_type": "markdown",
      "metadata": {
        "id": "ZbB0knUU72kt"
      },
      "source": [
        "## Basic Operations\n",
        "\n",
        "Pandas makes it easy to perform basic operations on your data. For example, you can compute the mean of a column or find the maximum value in another column. Other useful functions include `min`, `sum`, and `std` (standard deviation)."
      ]
    },
    {
      "cell_type": "code",
      "execution_count": 10,
      "metadata": {
        "colab": {
          "base_uri": "https://localhost:8080/"
        },
        "id": "qjpArUrQ72kt",
        "outputId": "7ba0b3d5-113d-492d-a9a8-cce6aa4dbcde"
      },
      "outputs": [
        {
          "output_type": "stream",
          "name": "stdout",
          "text": [
            "19.78594262295082\n",
            "10.0\n",
            "['Sun', 'Sat', 'Thur', 'Fri']\n",
            "Categories (4, object): ['Thur', 'Fri', 'Sat', 'Sun']\n"
          ]
        }
      ],
      "source": [
        "# Calculate the mean of 'total_bill'\n",
        "print(df['total_bill'].mean())\n",
        "\n",
        "# Find the maximum tip\n",
        "print(df['tip'].max())\n",
        "\n",
        "# Find the unique values\n",
        "print(df['day'].unique())"
      ]
    },
    {
      "cell_type": "markdown",
      "metadata": {
        "id": "2RbuIkMG72kt"
      },
      "source": [
        "### Exercise 1\n",
        "\n",
        "Using the Tips data set, print the following information:\n",
        "\n",
        "* Total revenue generated (sum of `total_bill`).\n",
        "* Total number of customers (sum of `size`).\n",
        "* Average spend per customer (total revenue divided by total number of customers)."
      ]
    },
    {
      "cell_type": "code",
      "execution_count": 12,
      "metadata": {
        "colab": {
          "base_uri": "https://localhost:8080/"
        },
        "id": "OF_hfNYd72ku",
        "outputId": "19a1f100-0834-4fde-af62-bf07d2138f10"
      },
      "outputs": [
        {
          "output_type": "stream",
          "name": "stdout",
          "text": [
            "Total revenue: £4827.77\n",
            "Total customers: 627\n",
            "Average spend per customer: £7.70\n"
          ]
        }
      ],
      "source": [
        "# Calculate total revenue\n",
        "total_revenue = df['total_bill'].sum()\n",
        "\n",
        "# Calculate total number of customers\n",
        "total_customers = df['size'].sum()\n",
        "\n",
        "# Calculate average spend per customer\n",
        "avg_spend = total_revenue / total_customers\n",
        "\n",
        "# Print results with clear formatting\n",
        "print(f\"Total revenue: £{total_revenue:.2f}\")\n",
        "print(f\"Total customers: {total_customers}\")\n",
        "print(f\"Average spend per customer: £{avg_spend:.2f}\")"
      ]
    },
    {
      "cell_type": "markdown",
      "metadata": {
        "id": "4u-1b4w-72ku"
      },
      "source": [
        "### Exercise 2\n",
        "\n",
        "Compare the average `tip` at Lunch and Dinner. Which meal time has the higher average tip? Use the cell below to show your work."
      ]
    },
    {
      "cell_type": "code",
      "execution_count": 13,
      "metadata": {
        "colab": {
          "base_uri": "https://localhost:8080/"
        },
        "id": "jx9hWCNf72ku",
        "outputId": "45a4f607-a95a-4117-81aa-b200d7a2bf60"
      },
      "outputs": [
        {
          "output_type": "stream",
          "name": "stdout",
          "text": [
            "Average lunch tip: £2.73\n",
            "Average dinner tip: £3.10\n"
          ]
        }
      ],
      "source": [
        "# Get all lunch tips and dinner tips separately\n",
        "lunch = df[df['time'] == 'Lunch']\n",
        "dinner = df[df['time'] == 'Dinner']\n",
        "\n",
        "# Calculate averages using mean()\n",
        "lunch_average = lunch['tip'].mean()\n",
        "dinner_average = dinner['tip'].mean()\n",
        "\n",
        "# Print results with clear formatting\n",
        "print(f\"Average lunch tip: £{lunch_average:.2f}\")\n",
        "print(f\"Average dinner tip: £{dinner_average:.2f}\")"
      ]
    },
    {
      "cell_type": "markdown",
      "metadata": {
        "id": "WtHPgWQP72ku"
      },
      "source": [
        "## Adding and Modifying Columns\n",
        "\n",
        "Sometimes you might want to derive new insights by creating additional features. For example, you can create a new column that represents the tip as a percentage of the total bill. This new column, `tip_pct`, allows you to compare tips relative to the size of the bill."
      ]
    },
    {
      "cell_type": "code",
      "execution_count": 15,
      "metadata": {
        "colab": {
          "base_uri": "https://localhost:8080/"
        },
        "id": "eLB02ZPc72ku",
        "outputId": "c0d83f97-09b7-47ff-a4e5-23b63639aae1"
      },
      "outputs": [
        {
          "output_type": "stream",
          "name": "stdout",
          "text": [
            "   total_bill   tip     sex smoker  day    time  size    tip_pct\n",
            "0       16.99  1.01  Female     No  Sun  Dinner     2   5.944673\n",
            "1       10.34  1.66    Male     No  Sun  Dinner     3  16.054159\n",
            "2       21.01  3.50    Male     No  Sun  Dinner     3  16.658734\n",
            "3       23.68  3.31    Male     No  Sun  Dinner     2  13.978041\n",
            "4       24.59  3.61  Female     No  Sun  Dinner     4  14.680765\n"
          ]
        }
      ],
      "source": [
        "# Create a new column 'tip_pct' representing the tip percentage\n",
        "df['tip_pct'] = (df['tip'] / df['total_bill']) * 100\n",
        "\n",
        "# Display the first few rows to verify the new column\n",
        "print(df.head())"
      ]
    },
    {
      "cell_type": "markdown",
      "metadata": {
        "id": "M8Cxz7yL72ku"
      },
      "source": [
        "## Grouping Data\n",
        "\n",
        "Grouping is a powerful feature in Pandas that allows you to split your data into subsets based on a key, and then apply an aggregation function to each group. In this notebook, we group the data by the `day` column to observe how values differ across the days of the week."
      ]
    },
    {
      "cell_type": "code",
      "execution_count": 20,
      "metadata": {
        "colab": {
          "base_uri": "https://localhost:8080/"
        },
        "id": "cQy0DxhM72ku",
        "outputId": "48699308-41c1-4a6b-a3cf-c9f5b115127f"
      },
      "outputs": [
        {
          "output_type": "stream",
          "name": "stdout",
          "text": [
            "        total_bill       tip    tip_pct\n",
            "time                                   \n",
            "Lunch    17.168676  2.728088  16.412793\n",
            "Dinner   20.797159  3.102670  15.951779\n"
          ]
        }
      ],
      "source": [
        "# Group the data by 'day' and calculate the average total_bill, tip, and tip_pct\n",
        "grouped_day = df.groupby('time', observed=True)[['total_bill', 'tip', 'tip_pct']].mean()\n",
        "print(grouped_day)"
      ]
    },
    {
      "cell_type": "markdown",
      "metadata": {
        "id": "zdNbJNwE72ku"
      },
      "source": [
        "## Exercise: Spend per Head and Smoker\n",
        "\n",
        "Calculate the average spend per head on each row of the dataset. Then compare the average spend per head for smokers and non-smokers.\n",
        "\n",
        "Use the cell below to show your work."
      ]
    },
    {
      "cell_type": "code",
      "execution_count": 21,
      "metadata": {
        "colab": {
          "base_uri": "https://localhost:8080/"
        },
        "id": "HMZTc3Vm72ku",
        "outputId": "df6ad921-cda9-462f-bb96-a2b07870a0b1"
      },
      "outputs": [
        {
          "output_type": "stream",
          "name": "stdout",
          "text": [
            "Average spend per head by smoking status:\n",
            "Non-smokers: £7.36\n",
            "Smokers: £8.74\n"
          ]
        }
      ],
      "source": [
        "# Create new column for spend per head\n",
        "df['spend_per_head'] = df['total_bill'] / df['size']\n",
        "\n",
        "# Group by smoker and calculate average spend per head\n",
        "avg_spend_by_smoker = df.groupby('smoker', observed=True)['spend_per_head'].mean()\n",
        "\n",
        "# Print results with clear formatting\n",
        "print(\"Average spend per head by smoking status:\")\n",
        "print(f\"Non-smokers: £{avg_spend_by_smoker['No']:.2f}\")\n",
        "print(f\"Smokers: £{avg_spend_by_smoker['Yes']:.2f}\")"
      ]
    }
  ],
  "metadata": {
    "kernelspec": {
      "display_name": "Python 3",
      "language": "python",
      "name": "python3"
    },
    "language_info": {
      "name": "python",
      "version": "3.x"
    },
    "colab": {
      "provenance": []
    }
  },
  "nbformat": 4,
  "nbformat_minor": 0
}