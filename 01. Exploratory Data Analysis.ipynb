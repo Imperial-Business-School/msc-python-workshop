{
  "cells": [
    {
      "cell_type": "markdown",
      "metadata": {
        "id": "ZNpsGeeF72ks"
      },
      "source": [
        "# Introduction to Tabular Data: The Tips Dataset\n",
        "\n",
        "In this notebook, we will explore a sample data set called **Tips** from Seaborn. This data set contains information from a restaurant, including details about bills, tips, and customer data."
      ]
    },
    {
      "cell_type": "markdown",
      "metadata": {
        "id": "qRQLPbh972kt"
      },
      "source": [
        "## About the Libraries: pandas and seaborn\n",
        "\n",
        "In Python, we use libraries to add extra functionality beyond the built‐in features. Two important libraries for data analysis are:\n",
        "\n",
        "- **pandas (imported as `pd`)**: A powerful library for data manipulation and analysis. It provides a DataFrame data structure (similar to a spreadsheet) that makes it easy to work with tabular data.\n",
        "\n",
        "- **seaborn (imported as `sns`)**: A library for creating statistical graphics and visualisations. It also includes built‐in data sets (like the Tips data set) which are ideal for learning and practice.\n",
        "\n",
        "We use the aliases `pd` and `sns` to write code more concisely. For example, instead of writing `pandas.DataFrame()`, we use `pd.DataFrame()`."
      ]
    },
    {
      "cell_type": "markdown",
      "source": [
        "## About the Data: The Tips Dataset\n",
        "The Tips dataset is a sample dataset included with seaborn that contains restaurant dining information, including:\n",
        "\n",
        "- **Total bill**: The cost of the meal, in US dollars\n",
        "- **Tip amount**: How much the customer tipped, in US dollars\n",
        "- **Time**: Whether the meal was for lunch or dinner\n",
        "- **Day**: Which day of the week the meal occurred\n",
        "- **Size**: The number of people in the dining party\n",
        "- **Sex**: The sex of the bill payer\n",
        "- **Smoker**: Whether the party sat in the smoking or non-smoking section\n",
        "\n",
        "This dataset comes pre-loaded with seaborn."
      ],
      "metadata": {
        "id": "Ke8nqyaH9zsE"
      }
    },
    {
      "cell_type": "markdown",
      "metadata": {
        "id": "4ePaOTEW72kt"
      },
      "source": [
        "## Loading Data\n",
        "\n",
        "We will start by importing the necessary libraries and loading the Tips data set."
      ]
    },
    {
      "cell_type": "code",
      "execution_count": null,
      "metadata": {
        "id": "tBY7kIkK72kt"
      },
      "outputs": [],
      "source": [
        "import pandas as pd\n",
        "import seaborn as sns"
      ]
    },
    {
      "cell_type": "code",
      "execution_count": null,
      "metadata": {
        "id": "2Z1dSPV-72kt"
      },
      "outputs": [],
      "source": [
        "# Load the Tips data set\n",
        "df = sns.load_dataset('tips')"
      ]
    },
    {
      "cell_type": "markdown",
      "metadata": {
        "id": "7kHgdsiR72kt"
      },
      "source": [
        "## Inspecting the Data\n",
        "\n",
        "Before analysing the data, it is important to inspect it. We can use methods like `head()` and `tail()` to view the first and last few rows, and use attributes like `shape` and `info()` and `describe()` to understand the structure and contents of the DataFrame."
      ]
    },
    {
      "cell_type": "code",
      "execution_count": null,
      "metadata": {
        "colab": {
          "base_uri": "https://localhost:8080/"
        },
        "id": "PvWQHoCC72kt",
        "outputId": "37264ad7-4f0e-4556-d72d-d4e766953846"
      },
      "outputs": [
        {
          "output_type": "stream",
          "name": "stdout",
          "text": [
            "   total_bill   tip     sex smoker  day    time  size\n",
            "0       16.99  1.01  Female     No  Sun  Dinner     2\n",
            "1       10.34  1.66    Male     No  Sun  Dinner     3\n",
            "2       21.01  3.50    Male     No  Sun  Dinner     3\n",
            "3       23.68  3.31    Male     No  Sun  Dinner     2\n",
            "4       24.59  3.61  Female     No  Sun  Dinner     4\n",
            "     total_bill   tip     sex smoker   day    time  size\n",
            "239       29.03  5.92    Male     No   Sat  Dinner     3\n",
            "240       27.18  2.00  Female    Yes   Sat  Dinner     2\n",
            "241       22.67  2.00    Male    Yes   Sat  Dinner     2\n",
            "242       17.82  1.75    Male     No   Sat  Dinner     2\n",
            "243       18.78  3.00  Female     No  Thur  Dinner     2\n"
          ]
        }
      ],
      "source": [
        "# Print the first five rows\n",
        "print(df.head())\n",
        "\n",
        "# Print the last five rows\n",
        "print(df.tail())"
      ]
    },
    {
      "cell_type": "code",
      "execution_count": null,
      "metadata": {
        "colab": {
          "base_uri": "https://localhost:8080/"
        },
        "id": "Fb9k-WoQ72kt",
        "outputId": "010683d6-2902-4183-9ed3-5676d27d4f1b"
      },
      "outputs": [
        {
          "output_type": "stream",
          "name": "stdout",
          "text": [
            "Rows and columns: (244, 7)\n",
            "Info\n",
            "<class 'pandas.core.frame.DataFrame'>\n",
            "RangeIndex: 244 entries, 0 to 243\n",
            "Data columns (total 7 columns):\n",
            " #   Column      Non-Null Count  Dtype   \n",
            "---  ------      --------------  -----   \n",
            " 0   total_bill  244 non-null    float64 \n",
            " 1   tip         244 non-null    float64 \n",
            " 2   sex         244 non-null    category\n",
            " 3   smoker      244 non-null    category\n",
            " 4   day         244 non-null    category\n",
            " 5   time        244 non-null    category\n",
            " 6   size        244 non-null    int64   \n",
            "dtypes: category(4), float64(2), int64(1)\n",
            "memory usage: 7.4 KB\n",
            "None\n"
          ]
        }
      ],
      "source": [
        "# Print the shape and summary info of the DataFrame\n",
        "print(\"Rows and columns:\", df.shape)\n",
        "print(\"Info\")\n",
        "print(df.info())"
      ]
    },
    {
      "cell_type": "code",
      "source": [
        "# Get overview statistics of numerical columns with describe()\n",
        "df.describe()"
      ],
      "metadata": {
        "colab": {
          "base_uri": "https://localhost:8080/",
          "height": 300
        },
        "id": "3c_MB1ioaZ1a",
        "outputId": "1a0dc85c-0525-4777-d915-251046f88ad0"
      },
      "execution_count": null,
      "outputs": [
        {
          "output_type": "execute_result",
          "data": {
            "text/plain": [
              "       total_bill         tip        size\n",
              "count  244.000000  244.000000  244.000000\n",
              "mean    19.785943    2.998279    2.569672\n",
              "std      8.902412    1.383638    0.951100\n",
              "min      3.070000    1.000000    1.000000\n",
              "25%     13.347500    2.000000    2.000000\n",
              "50%     17.795000    2.900000    2.000000\n",
              "75%     24.127500    3.562500    3.000000\n",
              "max     50.810000   10.000000    6.000000"
            ],
            "text/html": [
              "\n",
              "  <div id=\"df-342006a4-9b4f-4572-be70-7e21ee4bba68\" class=\"colab-df-container\">\n",
              "    <div>\n",
              "<style scoped>\n",
              "    .dataframe tbody tr th:only-of-type {\n",
              "        vertical-align: middle;\n",
              "    }\n",
              "\n",
              "    .dataframe tbody tr th {\n",
              "        vertical-align: top;\n",
              "    }\n",
              "\n",
              "    .dataframe thead th {\n",
              "        text-align: right;\n",
              "    }\n",
              "</style>\n",
              "<table border=\"1\" class=\"dataframe\">\n",
              "  <thead>\n",
              "    <tr style=\"text-align: right;\">\n",
              "      <th></th>\n",
              "      <th>total_bill</th>\n",
              "      <th>tip</th>\n",
              "      <th>size</th>\n",
              "    </tr>\n",
              "  </thead>\n",
              "  <tbody>\n",
              "    <tr>\n",
              "      <th>count</th>\n",
              "      <td>244.000000</td>\n",
              "      <td>244.000000</td>\n",
              "      <td>244.000000</td>\n",
              "    </tr>\n",
              "    <tr>\n",
              "      <th>mean</th>\n",
              "      <td>19.785943</td>\n",
              "      <td>2.998279</td>\n",
              "      <td>2.569672</td>\n",
              "    </tr>\n",
              "    <tr>\n",
              "      <th>std</th>\n",
              "      <td>8.902412</td>\n",
              "      <td>1.383638</td>\n",
              "      <td>0.951100</td>\n",
              "    </tr>\n",
              "    <tr>\n",
              "      <th>min</th>\n",
              "      <td>3.070000</td>\n",
              "      <td>1.000000</td>\n",
              "      <td>1.000000</td>\n",
              "    </tr>\n",
              "    <tr>\n",
              "      <th>25%</th>\n",
              "      <td>13.347500</td>\n",
              "      <td>2.000000</td>\n",
              "      <td>2.000000</td>\n",
              "    </tr>\n",
              "    <tr>\n",
              "      <th>50%</th>\n",
              "      <td>17.795000</td>\n",
              "      <td>2.900000</td>\n",
              "      <td>2.000000</td>\n",
              "    </tr>\n",
              "    <tr>\n",
              "      <th>75%</th>\n",
              "      <td>24.127500</td>\n",
              "      <td>3.562500</td>\n",
              "      <td>3.000000</td>\n",
              "    </tr>\n",
              "    <tr>\n",
              "      <th>max</th>\n",
              "      <td>50.810000</td>\n",
              "      <td>10.000000</td>\n",
              "      <td>6.000000</td>\n",
              "    </tr>\n",
              "  </tbody>\n",
              "</table>\n",
              "</div>\n",
              "    <div class=\"colab-df-buttons\">\n",
              "\n",
              "  <div class=\"colab-df-container\">\n",
              "    <button class=\"colab-df-convert\" onclick=\"convertToInteractive('df-342006a4-9b4f-4572-be70-7e21ee4bba68')\"\n",
              "            title=\"Convert this dataframe to an interactive table.\"\n",
              "            style=\"display:none;\">\n",
              "\n",
              "  <svg xmlns=\"http://www.w3.org/2000/svg\" height=\"24px\" viewBox=\"0 -960 960 960\">\n",
              "    <path d=\"M120-120v-720h720v720H120Zm60-500h600v-160H180v160Zm220 220h160v-160H400v160Zm0 220h160v-160H400v160ZM180-400h160v-160H180v160Zm440 0h160v-160H620v160ZM180-180h160v-160H180v160Zm440 0h160v-160H620v160Z\"/>\n",
              "  </svg>\n",
              "    </button>\n",
              "\n",
              "  <style>\n",
              "    .colab-df-container {\n",
              "      display:flex;\n",
              "      gap: 12px;\n",
              "    }\n",
              "\n",
              "    .colab-df-convert {\n",
              "      background-color: #E8F0FE;\n",
              "      border: none;\n",
              "      border-radius: 50%;\n",
              "      cursor: pointer;\n",
              "      display: none;\n",
              "      fill: #1967D2;\n",
              "      height: 32px;\n",
              "      padding: 0 0 0 0;\n",
              "      width: 32px;\n",
              "    }\n",
              "\n",
              "    .colab-df-convert:hover {\n",
              "      background-color: #E2EBFA;\n",
              "      box-shadow: 0px 1px 2px rgba(60, 64, 67, 0.3), 0px 1px 3px 1px rgba(60, 64, 67, 0.15);\n",
              "      fill: #174EA6;\n",
              "    }\n",
              "\n",
              "    .colab-df-buttons div {\n",
              "      margin-bottom: 4px;\n",
              "    }\n",
              "\n",
              "    [theme=dark] .colab-df-convert {\n",
              "      background-color: #3B4455;\n",
              "      fill: #D2E3FC;\n",
              "    }\n",
              "\n",
              "    [theme=dark] .colab-df-convert:hover {\n",
              "      background-color: #434B5C;\n",
              "      box-shadow: 0px 1px 3px 1px rgba(0, 0, 0, 0.15);\n",
              "      filter: drop-shadow(0px 1px 2px rgba(0, 0, 0, 0.3));\n",
              "      fill: #FFFFFF;\n",
              "    }\n",
              "  </style>\n",
              "\n",
              "    <script>\n",
              "      const buttonEl =\n",
              "        document.querySelector('#df-342006a4-9b4f-4572-be70-7e21ee4bba68 button.colab-df-convert');\n",
              "      buttonEl.style.display =\n",
              "        google.colab.kernel.accessAllowed ? 'block' : 'none';\n",
              "\n",
              "      async function convertToInteractive(key) {\n",
              "        const element = document.querySelector('#df-342006a4-9b4f-4572-be70-7e21ee4bba68');\n",
              "        const dataTable =\n",
              "          await google.colab.kernel.invokeFunction('convertToInteractive',\n",
              "                                                    [key], {});\n",
              "        if (!dataTable) return;\n",
              "\n",
              "        const docLinkHtml = 'Like what you see? Visit the ' +\n",
              "          '<a target=\"_blank\" href=https://colab.research.google.com/notebooks/data_table.ipynb>data table notebook</a>'\n",
              "          + ' to learn more about interactive tables.';\n",
              "        element.innerHTML = '';\n",
              "        dataTable['output_type'] = 'display_data';\n",
              "        await google.colab.output.renderOutput(dataTable, element);\n",
              "        const docLink = document.createElement('div');\n",
              "        docLink.innerHTML = docLinkHtml;\n",
              "        element.appendChild(docLink);\n",
              "      }\n",
              "    </script>\n",
              "  </div>\n",
              "\n",
              "\n",
              "<div id=\"df-4a5ab15b-262d-42aa-9f51-b6786c03ae25\">\n",
              "  <button class=\"colab-df-quickchart\" onclick=\"quickchart('df-4a5ab15b-262d-42aa-9f51-b6786c03ae25')\"\n",
              "            title=\"Suggest charts\"\n",
              "            style=\"display:none;\">\n",
              "\n",
              "<svg xmlns=\"http://www.w3.org/2000/svg\" height=\"24px\"viewBox=\"0 0 24 24\"\n",
              "     width=\"24px\">\n",
              "    <g>\n",
              "        <path d=\"M19 3H5c-1.1 0-2 .9-2 2v14c0 1.1.9 2 2 2h14c1.1 0 2-.9 2-2V5c0-1.1-.9-2-2-2zM9 17H7v-7h2v7zm4 0h-2V7h2v10zm4 0h-2v-4h2v4z\"/>\n",
              "    </g>\n",
              "</svg>\n",
              "  </button>\n",
              "\n",
              "<style>\n",
              "  .colab-df-quickchart {\n",
              "      --bg-color: #E8F0FE;\n",
              "      --fill-color: #1967D2;\n",
              "      --hover-bg-color: #E2EBFA;\n",
              "      --hover-fill-color: #174EA6;\n",
              "      --disabled-fill-color: #AAA;\n",
              "      --disabled-bg-color: #DDD;\n",
              "  }\n",
              "\n",
              "  [theme=dark] .colab-df-quickchart {\n",
              "      --bg-color: #3B4455;\n",
              "      --fill-color: #D2E3FC;\n",
              "      --hover-bg-color: #434B5C;\n",
              "      --hover-fill-color: #FFFFFF;\n",
              "      --disabled-bg-color: #3B4455;\n",
              "      --disabled-fill-color: #666;\n",
              "  }\n",
              "\n",
              "  .colab-df-quickchart {\n",
              "    background-color: var(--bg-color);\n",
              "    border: none;\n",
              "    border-radius: 50%;\n",
              "    cursor: pointer;\n",
              "    display: none;\n",
              "    fill: var(--fill-color);\n",
              "    height: 32px;\n",
              "    padding: 0;\n",
              "    width: 32px;\n",
              "  }\n",
              "\n",
              "  .colab-df-quickchart:hover {\n",
              "    background-color: var(--hover-bg-color);\n",
              "    box-shadow: 0 1px 2px rgba(60, 64, 67, 0.3), 0 1px 3px 1px rgba(60, 64, 67, 0.15);\n",
              "    fill: var(--button-hover-fill-color);\n",
              "  }\n",
              "\n",
              "  .colab-df-quickchart-complete:disabled,\n",
              "  .colab-df-quickchart-complete:disabled:hover {\n",
              "    background-color: var(--disabled-bg-color);\n",
              "    fill: var(--disabled-fill-color);\n",
              "    box-shadow: none;\n",
              "  }\n",
              "\n",
              "  .colab-df-spinner {\n",
              "    border: 2px solid var(--fill-color);\n",
              "    border-color: transparent;\n",
              "    border-bottom-color: var(--fill-color);\n",
              "    animation:\n",
              "      spin 1s steps(1) infinite;\n",
              "  }\n",
              "\n",
              "  @keyframes spin {\n",
              "    0% {\n",
              "      border-color: transparent;\n",
              "      border-bottom-color: var(--fill-color);\n",
              "      border-left-color: var(--fill-color);\n",
              "    }\n",
              "    20% {\n",
              "      border-color: transparent;\n",
              "      border-left-color: var(--fill-color);\n",
              "      border-top-color: var(--fill-color);\n",
              "    }\n",
              "    30% {\n",
              "      border-color: transparent;\n",
              "      border-left-color: var(--fill-color);\n",
              "      border-top-color: var(--fill-color);\n",
              "      border-right-color: var(--fill-color);\n",
              "    }\n",
              "    40% {\n",
              "      border-color: transparent;\n",
              "      border-right-color: var(--fill-color);\n",
              "      border-top-color: var(--fill-color);\n",
              "    }\n",
              "    60% {\n",
              "      border-color: transparent;\n",
              "      border-right-color: var(--fill-color);\n",
              "    }\n",
              "    80% {\n",
              "      border-color: transparent;\n",
              "      border-right-color: var(--fill-color);\n",
              "      border-bottom-color: var(--fill-color);\n",
              "    }\n",
              "    90% {\n",
              "      border-color: transparent;\n",
              "      border-bottom-color: var(--fill-color);\n",
              "    }\n",
              "  }\n",
              "</style>\n",
              "\n",
              "  <script>\n",
              "    async function quickchart(key) {\n",
              "      const quickchartButtonEl =\n",
              "        document.querySelector('#' + key + ' button');\n",
              "      quickchartButtonEl.disabled = true;  // To prevent multiple clicks.\n",
              "      quickchartButtonEl.classList.add('colab-df-spinner');\n",
              "      try {\n",
              "        const charts = await google.colab.kernel.invokeFunction(\n",
              "            'suggestCharts', [key], {});\n",
              "      } catch (error) {\n",
              "        console.error('Error during call to suggestCharts:', error);\n",
              "      }\n",
              "      quickchartButtonEl.classList.remove('colab-df-spinner');\n",
              "      quickchartButtonEl.classList.add('colab-df-quickchart-complete');\n",
              "    }\n",
              "    (() => {\n",
              "      let quickchartButtonEl =\n",
              "        document.querySelector('#df-4a5ab15b-262d-42aa-9f51-b6786c03ae25 button');\n",
              "      quickchartButtonEl.style.display =\n",
              "        google.colab.kernel.accessAllowed ? 'block' : 'none';\n",
              "    })();\n",
              "  </script>\n",
              "</div>\n",
              "\n",
              "    </div>\n",
              "  </div>\n"
            ],
            "application/vnd.google.colaboratory.intrinsic+json": {
              "type": "dataframe",
              "summary": "{\n  \"name\": \"df\",\n  \"rows\": 8,\n  \"fields\": [\n    {\n      \"column\": \"total_bill\",\n      \"properties\": {\n        \"dtype\": \"number\",\n        \"std\": 80.57800601480773,\n        \"min\": 3.07,\n        \"max\": 244.0,\n        \"num_unique_values\": 8,\n        \"samples\": [\n          19.78594262295082,\n          17.795,\n          244.0\n        ],\n        \"semantic_type\": \"\",\n        \"description\": \"\"\n      }\n    },\n    {\n      \"column\": \"tip\",\n      \"properties\": {\n        \"dtype\": \"number\",\n        \"std\": 85.10953159599222,\n        \"min\": 1.0,\n        \"max\": 244.0,\n        \"num_unique_values\": 8,\n        \"samples\": [\n          2.99827868852459,\n          2.9,\n          244.0\n        ],\n        \"semantic_type\": \"\",\n        \"description\": \"\"\n      }\n    },\n    {\n      \"column\": \"size\",\n      \"properties\": {\n        \"dtype\": \"number\",\n        \"std\": 85.39686221774684,\n        \"min\": 0.9510998047322332,\n        \"max\": 244.0,\n        \"num_unique_values\": 7,\n        \"samples\": [\n          244.0,\n          2.569672131147541,\n          3.0\n        ],\n        \"semantic_type\": \"\",\n        \"description\": \"\"\n      }\n    }\n  ]\n}"
            }
          },
          "metadata": {},
          "execution_count": 23
        }
      ]
    },
    {
      "cell_type": "markdown",
      "source": [
        "## Understanding our data\n",
        "\n",
        "Based on the output of `shape`, `info()` and `describe()`, the Tips dataset contains 244 rows (dining experiences) with 7 columns of different types:\n",
        "\n",
        "**Numerical Columns:**\n",
        "- `total_bill` and `tip` are stored as `float64`, which is appropriate as these monetary values can have decimal places\n",
        "- `size` is stored as `int64`, which makes sense for whole numbers representing the count of diners\n",
        "- We can see the value ranges and averages, along with other information about the spread of our numerical data\n",
        "\n",
        "**Categorical Columns:**\n",
        "- Four columns are stored as `category` type: `sex`, `smoker`, `day`, and `time`\n",
        "- Using the category type is memory-efficient for columns with a limited set of possible values\n",
        "\n",
        "All columns have 244 non-null values, indicating there are no missing values in the dataset, which is helpful for our analysis as we won't need to handle missing data."
      ],
      "metadata": {
        "id": "iA3kpI9T-yg5"
      }
    },
    {
      "cell_type": "markdown",
      "metadata": {
        "id": "3GkoR6EF72kt"
      },
      "source": [
        "## Accessing Data\n",
        "\n",
        "You can access specific parts of the DataFrame using square bracket notation or the `iloc` method. For example:"
      ]
    },
    {
      "cell_type": "code",
      "execution_count": null,
      "metadata": {
        "id": "XwgRydk972kt",
        "colab": {
          "base_uri": "https://localhost:8080/"
        },
        "outputId": "8484315f-5ef2-420a-d770-2332b93bef04"
      },
      "outputs": [
        {
          "output_type": "stream",
          "name": "stdout",
          "text": [
            "0      16.99\n",
            "1      10.34\n",
            "2      21.01\n",
            "3      23.68\n",
            "4      24.59\n",
            "       ...  \n",
            "239    29.03\n",
            "240    27.18\n",
            "241    22.67\n",
            "242    17.82\n",
            "243    18.78\n",
            "Name: total_bill, Length: 244, dtype: float64\n",
            "     total_bill   tip\n",
            "0         16.99  1.01\n",
            "1         10.34  1.66\n",
            "2         21.01  3.50\n",
            "3         23.68  3.31\n",
            "4         24.59  3.61\n",
            "..          ...   ...\n",
            "239       29.03  5.92\n",
            "240       27.18  2.00\n",
            "241       22.67  2.00\n",
            "242       17.82  1.75\n",
            "243       18.78  3.00\n",
            "\n",
            "[244 rows x 2 columns]\n",
            "     total_bill   tip     sex smoker  day    time  size\n",
            "90        28.97  3.00    Male    Yes  Fri  Dinner     2\n",
            "91        22.49  3.50    Male     No  Fri  Dinner     2\n",
            "92         5.75  1.00  Female    Yes  Fri  Dinner     2\n",
            "93        16.32  4.30  Female    Yes  Fri  Dinner     2\n",
            "94        22.75  3.25  Female     No  Fri  Dinner     2\n",
            "95        40.17  4.73    Male    Yes  Fri  Dinner     4\n",
            "96        27.28  4.00    Male    Yes  Fri  Dinner     2\n",
            "97        12.03  1.50    Male    Yes  Fri  Dinner     2\n",
            "98        21.01  3.00    Male    Yes  Fri  Dinner     2\n",
            "99        12.46  1.50    Male     No  Fri  Dinner     2\n",
            "100       11.35  2.50  Female    Yes  Fri  Dinner     2\n",
            "101       15.38  3.00  Female    Yes  Fri  Dinner     2\n",
            "220       12.16  2.20    Male    Yes  Fri   Lunch     2\n",
            "221       13.42  3.48  Female    Yes  Fri   Lunch     2\n",
            "222        8.58  1.92    Male    Yes  Fri   Lunch     1\n",
            "223       15.98  3.00  Female     No  Fri   Lunch     3\n",
            "224       13.42  1.58    Male    Yes  Fri   Lunch     2\n",
            "225       16.27  2.50  Female    Yes  Fri   Lunch     2\n",
            "226       10.09  2.00  Female    Yes  Fri   Lunch     2\n",
            "total_bill     16.99\n",
            "tip             1.01\n",
            "sex           Female\n",
            "smoker            No\n",
            "day              Sun\n",
            "time          Dinner\n",
            "size               2\n",
            "Name: 0, dtype: object\n",
            "Female\n"
          ]
        }
      ],
      "source": [
        "# Access a single column (e.g. total_bill)\n",
        "print(df['total_bill'])\n",
        "\n",
        "# Access multiple columns\n",
        "print(df[['total_bill', 'tip']])\n",
        "\n",
        "# Access rows where the day is 'Fri'\n",
        "print(df[df['day'] == 'Fri'])\n",
        "\n",
        "# Access the first row\n",
        "print(df.iloc[0])\n",
        "\n",
        "# Access the fifth row and third column\n",
        "print(df.iloc[4, 2])"
      ]
    },
    {
      "cell_type": "markdown",
      "metadata": {
        "id": "ZbB0knUU72kt"
      },
      "source": [
        "## Basic Operations\n",
        "\n",
        "Pandas makes it easy to perform basic operations on your data. For example, you can compute the mean of a column or find the maximum value in another column. Other useful functions include `min`, `sum`, and `std` (standard deviation)."
      ]
    },
    {
      "cell_type": "code",
      "execution_count": null,
      "metadata": {
        "colab": {
          "base_uri": "https://localhost:8080/"
        },
        "id": "qjpArUrQ72kt",
        "outputId": "33aa0fc9-5ad6-4df1-ef8b-8858df0f80ee"
      },
      "outputs": [
        {
          "output_type": "stream",
          "name": "stdout",
          "text": [
            "19.78594262295082\n",
            "10.0\n",
            "['Sun', 'Sat', 'Thur', 'Fri']\n",
            "Categories (4, object): ['Thur', 'Fri', 'Sat', 'Sun']\n"
          ]
        }
      ],
      "source": [
        "# Calculate the mean of 'total_bill'\n",
        "print(df['total_bill'].mean())\n",
        "\n",
        "# Find the maximum tip\n",
        "print(df['tip'].max())\n",
        "\n",
        "# Find the unique values\n",
        "print(df['day'].unique())"
      ]
    },
    {
      "cell_type": "markdown",
      "metadata": {
        "id": "2RbuIkMG72kt"
      },
      "source": [
        "### Exercise 1: Average spend\n",
        "\n",
        "Compute and print the following information:\n",
        "\n",
        "* Total revenue generated (sum of `total_bill`).\n",
        "* Total number of customers (sum of `size`).\n",
        "* Average revenue per customer."
      ]
    },
    {
      "cell_type": "code",
      "execution_count": null,
      "metadata": {
        "colab": {
          "base_uri": "https://localhost:8080/"
        },
        "id": "OF_hfNYd72ku",
        "outputId": "f9e08bbf-1e7e-4e9e-d1ae-4aa04a48ee01"
      },
      "outputs": [
        {
          "output_type": "stream",
          "name": "stdout",
          "text": [
            "Total revenue: £4827.77\n",
            "Total customers: 627\n",
            "Average spend per customer: £7.70\n"
          ]
        }
      ],
      "source": [
        "# Calculate total revenue\n",
        "total_revenue = df['total_bill'].sum()\n",
        "\n",
        "# Calculate total number of customers\n",
        "total_customers = df['size'].sum()\n",
        "\n",
        "# Calculate average spend per customer\n",
        "avg_spend = total_revenue / total_customers\n",
        "\n",
        "# Print results with clear formatting\n",
        "print(f\"Total revenue: £{total_revenue:.2f}\")\n",
        "print(f\"Total customers: {total_customers}\")\n",
        "print(f\"Average spend per customer: £{avg_spend:.2f}\")"
      ]
    },
    {
      "cell_type": "markdown",
      "metadata": {
        "id": "4u-1b4w-72ku"
      },
      "source": [
        "### Exercise 2: Time Tips\n",
        "\n",
        "Compare the average `tip` at Lunch and Dinner. Which meal time has the higher average tip? Use the cell below to show your work."
      ]
    },
    {
      "cell_type": "code",
      "execution_count": null,
      "metadata": {
        "colab": {
          "base_uri": "https://localhost:8080/"
        },
        "id": "jx9hWCNf72ku",
        "outputId": "f549a8b6-384c-4be4-c896-e39f7f452e90"
      },
      "outputs": [
        {
          "output_type": "stream",
          "name": "stdout",
          "text": [
            "Average lunch tip: £2.73\n",
            "Average dinner tip: £3.10\n"
          ]
        }
      ],
      "source": [
        "# Get all lunch tips and dinner tips separately\n",
        "lunch = df[df['time'] == 'Lunch']\n",
        "dinner = df[df['time'] == 'Dinner']\n",
        "\n",
        "# Calculate averages using mean()\n",
        "lunch_average = lunch['tip'].mean()\n",
        "dinner_average = dinner['tip'].mean()\n",
        "\n",
        "# Print results with clear formatting\n",
        "print(f\"Average lunch tip: £{lunch_average:.2f}\")\n",
        "print(f\"Average dinner tip: £{dinner_average:.2f}\")"
      ]
    },
    {
      "cell_type": "markdown",
      "metadata": {
        "id": "WtHPgWQP72ku"
      },
      "source": [
        "## Adding and Modifying Columns\n",
        "\n",
        "Sometimes you might want to derive new insights by creating additional features. For example, you can create a new column that represents the tip as a percentage of the total bill. This new column, `tip_pct`, allows you to compare tips relative to the size of the bill for each observation in the data."
      ]
    },
    {
      "cell_type": "code",
      "execution_count": null,
      "metadata": {
        "colab": {
          "base_uri": "https://localhost:8080/"
        },
        "id": "eLB02ZPc72ku",
        "outputId": "a6b8a54e-1e49-4218-ca09-3584a4adf4a7"
      },
      "outputs": [
        {
          "output_type": "stream",
          "name": "stdout",
          "text": [
            "   total_bill   tip     sex smoker  day    time  size    tip_pct\n",
            "0       16.99  1.01  Female     No  Sun  Dinner     2   5.944673\n",
            "1       10.34  1.66    Male     No  Sun  Dinner     3  16.054159\n",
            "2       21.01  3.50    Male     No  Sun  Dinner     3  16.658734\n",
            "3       23.68  3.31    Male     No  Sun  Dinner     2  13.978041\n",
            "4       24.59  3.61  Female     No  Sun  Dinner     4  14.680765\n"
          ]
        }
      ],
      "source": [
        "# Create a new column 'tip_pct' representing the tip percentage\n",
        "df['tip_pct'] = (df['tip'] / df['total_bill']) * 100\n",
        "\n",
        "# Display the first few rows to verify the new column\n",
        "print(df.head())"
      ]
    },
    {
      "cell_type": "markdown",
      "metadata": {
        "id": "M8Cxz7yL72ku"
      },
      "source": [
        "## Grouping Data\n",
        "\n",
        "Grouping is a powerful feature in Pandas that allows you to split your data into subsets based on a key, and then apply an aggregation function to each group. In this notebook, we group the data by the `day` column to see how values differ across the days of the week.\n",
        "\n",
        "This is most often used for category data, and to indicate that we are only interested in categories that actuall appear in our data, we pass `observed=True` as an additional argument."
      ]
    },
    {
      "cell_type": "code",
      "execution_count": null,
      "metadata": {
        "colab": {
          "base_uri": "https://localhost:8080/"
        },
        "id": "cQy0DxhM72ku",
        "outputId": "6b67ea86-f7ce-4152-a301-34dae3c3bf09"
      },
      "outputs": [
        {
          "output_type": "stream",
          "name": "stdout",
          "text": [
            "        total_bill       tip    tip_pct\n",
            "time                                   \n",
            "Lunch    17.168676  2.728088  16.412793\n",
            "Dinner   20.797159  3.102670  15.951779\n"
          ]
        }
      ],
      "source": [
        "# Group the data by 'day' and calculate the average total_bill, tip, and tip_pct\n",
        "grouped_day = df.groupby('time', observed=True)[['total_bill', 'tip', 'tip_pct']].mean()\n",
        "print(grouped_day)"
      ]
    },
    {
      "cell_type": "markdown",
      "metadata": {
        "id": "zdNbJNwE72ku"
      },
      "source": [
        "## Exercise 3: Smoking spend per head\n",
        "\n",
        "Calculate the average spend per head on each row of the dataset. Then compare the average spend per head for smokers and non-smokers.\n",
        "\n",
        "Use the cell below to show your work."
      ]
    },
    {
      "cell_type": "code",
      "execution_count": null,
      "metadata": {
        "colab": {
          "base_uri": "https://localhost:8080/"
        },
        "id": "HMZTc3Vm72ku",
        "outputId": "b4fd9112-7a46-40a5-97de-148bb6e560c9"
      },
      "outputs": [
        {
          "output_type": "stream",
          "name": "stdout",
          "text": [
            "Average spend per head by smoking status:\n",
            "Non-smokers: £7.36\n",
            "Smokers: £8.74\n"
          ]
        }
      ],
      "source": [
        "# Create new column for spend per head\n",
        "df['spend_per_head'] = df['total_bill'] / df['size']\n",
        "\n",
        "# Group by smoker and calculate average spend per head\n",
        "avg_spend_by_smoker = df.groupby('smoker', observed=True)['spend_per_head'].mean()\n",
        "\n",
        "# Print results with clear formatting\n",
        "print(\"Average spend per head by smoking status:\")\n",
        "print(f\"Non-smokers: £{avg_spend_by_smoker['No']:.2f}\")\n",
        "print(f\"Smokers: £{avg_spend_by_smoker['Yes']:.2f}\")"
      ]
    }
  ],
  "metadata": {
    "kernelspec": {
      "display_name": "Python 3",
      "language": "python",
      "name": "python3"
    },
    "language_info": {
      "name": "python",
      "version": "3.x"
    },
    "colab": {
      "provenance": []
    }
  },
  "nbformat": 4,
  "nbformat_minor": 0
}