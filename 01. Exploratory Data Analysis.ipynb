{
  "cells": [
    {
      "cell_type": "markdown",
      "metadata": {
        "id": "ZNpsGeeF72ks"
      },
      "source": [
        "# Introduction to Tabular Data: The Tips Dataset\n",
        "\n",
        "In this notebook, we will explore a sample data set called **Tips** from Seaborn. This data set contains information from a restaurant, including details about bills, tips, and customer data."
      ]
    },
    {
      "cell_type": "markdown",
      "metadata": {
        "id": "qRQLPbh972kt"
      },
      "source": [
        "## About the Libraries: pandas and seaborn\n",
        "\n",
        "In Python, we use libraries to add extra functionality beyond the built‐in features. Two important libraries for data analysis are:\n",
        "\n",
        "- **pandas (imported as `pd`)**: A powerful library for data manipulation and analysis. It provides a DataFrame data structure (similar to a spreadsheet) that makes it easy to work with tabular data.\n",
        "\n",
        "- **seaborn (imported as `sns`)**: A library for creating statistical graphics and visualisations. It also includes built‐in data sets (like the Tips data set) which are ideal for learning and practice.\n",
        "\n",
        "We use the aliases `pd` and `sns` to write code more concisely. For example, instead of writing `pandas.DataFrame()`, we use `pd.DataFrame()`."
      ]
    },
    {
      "cell_type": "markdown",
      "metadata": {
        "id": "Ke8nqyaH9zsE"
      },
      "source": [
        "## About the Data: The Tips Dataset\n",
        "The Tips dataset is a sample dataset included with seaborn that contains restaurant dining information, including:\n",
        "\n",
        "- **Total bill**: The cost of the meal, in US dollars\n",
        "- **Tip amount**: How much the customer tipped, in US dollars\n",
        "- **Time**: Whether the meal was for lunch or dinner\n",
        "- **Day**: Which day of the week the meal occurred\n",
        "- **Size**: The number of people in the dining party\n",
        "- **Sex**: The sex of the bill payer\n",
        "- **Smoker**: Whether the party sat in the smoking or non-smoking section\n",
        "\n",
        "This dataset comes pre-loaded with seaborn."
      ]
    },
    {
      "cell_type": "markdown",
      "metadata": {
        "id": "4ePaOTEW72kt"
      },
      "source": [
        "## Loading Data\n",
        "\n",
        "We will start by importing the necessary libraries and loading the Tips data set."
      ]
    },
    {
      "cell_type": "code",
      "execution_count": null,
      "metadata": {
        "id": "tBY7kIkK72kt"
      },
      "outputs": [],
      "source": [
        "# Importing libraries"
      ]
    },
    {
      "cell_type": "code",
      "execution_count": null,
      "metadata": {
        "id": "2Z1dSPV-72kt"
      },
      "outputs": [],
      "source": [
        "# Loading data"
      ]
    },
    {
      "cell_type": "markdown",
      "metadata": {
        "id": "7kHgdsiR72kt"
      },
      "source": [
        "## Inspecting the Data\n",
        "\n",
        "Before analysing the data, it is important to inspect it. We can use methods like `head()` and `tail()` to view the first and last few rows, and use attributes like `shape` and `info()` and `describe()` to understand the structure and contents of the DataFrame."
      ]
    },
    {
      "cell_type": "code",
      "execution_count": null,
      "metadata": {
        "colab": {
          "base_uri": "https://localhost:8080/"
        },
        "id": "PvWQHoCC72kt",
        "outputId": "37264ad7-4f0e-4556-d72d-d4e766953846"
      },
      "outputs": [],
      "source": [
        "# Looking at the data"
      ]
    },
    {
      "cell_type": "code",
      "execution_count": null,
      "metadata": {
        "colab": {
          "base_uri": "https://localhost:8080/"
        },
        "id": "Fb9k-WoQ72kt",
        "outputId": "010683d6-2902-4183-9ed3-5676d27d4f1b"
      },
      "outputs": [],
      "source": [
        "# Getting information"
      ]
    },
    {
      "cell_type": "code",
      "execution_count": null,
      "metadata": {
        "colab": {
          "base_uri": "https://localhost:8080/",
          "height": 300
        },
        "id": "3c_MB1ioaZ1a",
        "outputId": "1a0dc85c-0525-4777-d915-251046f88ad0"
      },
      "outputs": [],
      "source": [
        "# Quick statistics "
      ]
    },
    {
      "cell_type": "markdown",
      "metadata": {
        "id": "iA3kpI9T-yg5"
      },
      "source": [
        "## Understanding our data\n",
        "\n",
        "Based on the output of `shape`, `info()` and `describe()`, the Tips dataset contains 244 rows (dining experiences) with 7 columns of different types:\n",
        "\n",
        "**Numerical Columns:**\n",
        "- `total_bill` and `tip` are stored as `float64`, which is appropriate as these monetary values can have decimal places\n",
        "- `size` is stored as `int64`, which makes sense for whole numbers representing the count of diners\n",
        "- We can see the value ranges and averages, along with other information about the spread of our numerical data\n",
        "\n",
        "**Categorical Columns:**\n",
        "- Four columns are stored as `category` type: `sex`, `smoker`, `day`, and `time`\n",
        "- Using the category type is memory-efficient for columns with a limited set of possible values\n",
        "\n",
        "All columns have 244 non-null values, indicating there are no missing values in the dataset, which is helpful for our analysis as we won't need to handle missing data."
      ]
    },
    {
      "cell_type": "markdown",
      "metadata": {
        "id": "3GkoR6EF72kt"
      },
      "source": [
        "## Accessing Data\n",
        "\n",
        "You can access specific parts of the DataFrame using square bracket notation or the `iloc` method. For example:"
      ]
    },
    {
      "cell_type": "code",
      "execution_count": null,
      "metadata": {
        "colab": {
          "base_uri": "https://localhost:8080/"
        },
        "id": "XwgRydk972kt",
        "outputId": "8484315f-5ef2-420a-d770-2332b93bef04"
      },
      "outputs": [],
      "source": [
        "# Data access"
      ]
    },
    {
      "cell_type": "markdown",
      "metadata": {
        "id": "ZbB0knUU72kt"
      },
      "source": [
        "## Basic Operations\n",
        "\n",
        "Pandas makes it easy to perform basic operations on your data. For example, you can compute the mean of a column or find the maximum value in another column. Other useful functions include `min`, `sum`, and `std` (standard deviation)."
      ]
    },
    {
      "cell_type": "code",
      "execution_count": null,
      "metadata": {
        "colab": {
          "base_uri": "https://localhost:8080/"
        },
        "id": "qjpArUrQ72kt",
        "outputId": "33aa0fc9-5ad6-4df1-ef8b-8858df0f80ee"
      },
      "outputs": [],
      "source": [
        "# Basic operations"
      ]
    },
    {
      "cell_type": "markdown",
      "metadata": {
        "id": "2RbuIkMG72kt"
      },
      "source": [
        "### Exercise 1: Average spend\n",
        "\n",
        "Compute and print the following information:\n",
        "\n",
        "* Total revenue generated (sum of `total_bill`).\n",
        "* Total number of customers (sum of `size`).\n",
        "* Average revenue per customer."
      ]
    },
    {
      "cell_type": "code",
      "execution_count": null,
      "metadata": {
        "colab": {
          "base_uri": "https://localhost:8080/"
        },
        "id": "OF_hfNYd72ku",
        "outputId": "f9e08bbf-1e7e-4e9e-d1ae-4aa04a48ee01"
      },
      "outputs": [],
      "source": [
        "## YOUR CODE GOES HERE"
      ]
    },
    {
      "cell_type": "markdown",
      "metadata": {
        "id": "4u-1b4w-72ku"
      },
      "source": [
        "### Exercise 2: Time Tips\n",
        "\n",
        "Compare the average `tip` at Lunch and Dinner. Which meal time has the higher average tip? Use the cell below to show your work."
      ]
    },
    {
      "cell_type": "code",
      "execution_count": null,
      "metadata": {
        "colab": {
          "base_uri": "https://localhost:8080/"
        },
        "id": "jx9hWCNf72ku",
        "outputId": "f549a8b6-384c-4be4-c896-e39f7f452e90"
      },
      "outputs": [],
      "source": [
        "## YOUR CODE GOES HERE"
      ]
    },
    {
      "cell_type": "markdown",
      "metadata": {
        "id": "WtHPgWQP72ku"
      },
      "source": [
        "## Adding and Modifying Columns\n",
        "\n",
        "Sometimes you might want to derive new insights by creating additional features. For example, you can create a new column that represents the tip as a percentage of the total bill. This new column, `tip_pct`, allows you to compare tips relative to the size of the bill for each observation in the data."
      ]
    },
    {
      "cell_type": "code",
      "execution_count": null,
      "metadata": {
        "colab": {
          "base_uri": "https://localhost:8080/"
        },
        "id": "eLB02ZPc72ku",
        "outputId": "a6b8a54e-1e49-4218-ca09-3584a4adf4a7"
      },
      "outputs": [],
      "source": [
        "# Adding columns"
      ]
    },
    {
      "cell_type": "markdown",
      "metadata": {
        "id": "M8Cxz7yL72ku"
      },
      "source": [
        "## Grouping Data\n",
        "\n",
        "Grouping is a powerful feature in Pandas that allows you to split your data into subsets based on a key, and then apply an aggregation function to each group. In this notebook, we group the data by the `day` column to see how values differ across the days of the week.\n",
        "\n",
        "This is most often used for category data, and to indicate that we are only interested in categories that actuall appear in our data, we pass `observed=True` as an additional argument."
      ]
    },
    {
      "cell_type": "code",
      "execution_count": null,
      "metadata": {
        "colab": {
          "base_uri": "https://localhost:8080/"
        },
        "id": "cQy0DxhM72ku",
        "outputId": "6b67ea86-f7ce-4152-a301-34dae3c3bf09"
      },
      "outputs": [],
      "source": [
        "# Grouping"
      ]
    },
    {
      "cell_type": "markdown",
      "metadata": {
        "id": "zdNbJNwE72ku"
      },
      "source": [
        "### Exercise 3: Smoking spend per head\n",
        "\n",
        "Calculate the average spend per head on each row of the dataset. Then compare the average spend per head for smokers and non-smokers.\n",
        "\n",
        "Use the cell below to show your work."
      ]
    },
    {
      "cell_type": "code",
      "execution_count": null,
      "metadata": {
        "colab": {
          "base_uri": "https://localhost:8080/"
        },
        "id": "HMZTc3Vm72ku",
        "outputId": "b4fd9112-7a46-40a5-97de-148bb6e560c9"
      },
      "outputs": [],
      "source": [
        "## YOUR CODE GOES HERE"
      ]
    }
  ],
  "metadata": {
    "colab": {
      "provenance": []
    },
    "kernelspec": {
      "display_name": "Python 3",
      "language": "python",
      "name": "python3"
    },
    "language_info": {
      "name": "python",
      "version": "3.x"
    }
  },
  "nbformat": 4,
  "nbformat_minor": 0
}
